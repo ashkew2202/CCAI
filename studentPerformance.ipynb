{
 "cells": [
  {
   "cell_type": "code",
   "execution_count": 1,
   "metadata": {},
   "outputs": [
    {
     "name": "stderr",
     "output_type": "stream",
     "text": [
      "d:\\python workspace\\Machine_Leaning\\.venv\\Lib\\site-packages\\tqdm\\auto.py:21: TqdmWarning: IProgress not found. Please update jupyter and ipywidgets. See https://ipywidgets.readthedocs.io/en/stable/user_install.html\n",
      "  from .autonotebook import tqdm as notebook_tqdm\n"
     ]
    }
   ],
   "source": [
    "import pandas as pd\n",
    "import numpy as np\n",
    "import matplotlib.pyplot as plt\n",
    "from datasets import load_dataset"
   ]
  },
  {
   "cell_type": "code",
   "execution_count": 2,
   "metadata": {},
   "outputs": [
    {
     "name": "stdout",
     "output_type": "stream",
     "text": [
      "Warning: Looks like you're using an outdated `kagglehub` version (installed: 0.3.9), please consider upgrading to the latest version (0.3.10).\n",
      "Path to dataset files: C:\\Users\\anshp\\.cache\\kagglehub\\datasets\\adilshamim8\\student-performance-on-an-entrance-examination\\versions\\1\n"
     ]
    }
   ],
   "source": [
    "import kagglehub\n",
    "path = kagglehub.dataset_download(\"adilshamim8/student-performance-on-an-entrance-examination\")\n",
    "\n",
    "print(\"Path to dataset files:\", path)\n",
    "dataset = load_dataset(path)"
   ]
  },
  {
   "cell_type": "code",
   "execution_count": 3,
   "metadata": {},
   "outputs": [
    {
     "data": {
      "text/plain": [
       "DatasetDict({\n",
       "    train: Dataset({\n",
       "        features: ['Gender', 'Caste', 'coaching', 'Class_ten_education', 'twelve_education', 'medium', 'Class_X_Percentage', 'Class_XII_Percentage', 'Father_occupation', 'Mother_occupation', 'time', 'Performance'],\n",
       "        num_rows: 666\n",
       "    })\n",
       "})"
      ]
     },
     "execution_count": 3,
     "metadata": {},
     "output_type": "execute_result"
    }
   ],
   "source": [
    "dataset"
   ]
  },
  {
   "cell_type": "code",
   "execution_count": 4,
   "metadata": {},
   "outputs": [
    {
     "data": {
      "text/html": [
       "<div>\n",
       "<style scoped>\n",
       "    .dataframe tbody tr th:only-of-type {\n",
       "        vertical-align: middle;\n",
       "    }\n",
       "\n",
       "    .dataframe tbody tr th {\n",
       "        vertical-align: top;\n",
       "    }\n",
       "\n",
       "    .dataframe thead th {\n",
       "        text-align: right;\n",
       "    }\n",
       "</style>\n",
       "<table border=\"1\" class=\"dataframe\">\n",
       "  <thead>\n",
       "    <tr style=\"text-align: right;\">\n",
       "      <th></th>\n",
       "      <th>0</th>\n",
       "    </tr>\n",
       "  </thead>\n",
       "  <tbody>\n",
       "    <tr>\n",
       "      <th>0</th>\n",
       "      <td>1</td>\n",
       "    </tr>\n",
       "    <tr>\n",
       "      <th>1</th>\n",
       "      <td>1</td>\n",
       "    </tr>\n",
       "    <tr>\n",
       "      <th>2</th>\n",
       "      <td>1</td>\n",
       "    </tr>\n",
       "    <tr>\n",
       "      <th>3</th>\n",
       "      <td>1</td>\n",
       "    </tr>\n",
       "    <tr>\n",
       "      <th>4</th>\n",
       "      <td>1</td>\n",
       "    </tr>\n",
       "    <tr>\n",
       "      <th>...</th>\n",
       "      <td>...</td>\n",
       "    </tr>\n",
       "    <tr>\n",
       "      <th>661</th>\n",
       "      <td>0</td>\n",
       "    </tr>\n",
       "    <tr>\n",
       "      <th>662</th>\n",
       "      <td>0</td>\n",
       "    </tr>\n",
       "    <tr>\n",
       "      <th>663</th>\n",
       "      <td>0</td>\n",
       "    </tr>\n",
       "    <tr>\n",
       "      <th>664</th>\n",
       "      <td>0</td>\n",
       "    </tr>\n",
       "    <tr>\n",
       "      <th>665</th>\n",
       "      <td>0</td>\n",
       "    </tr>\n",
       "  </tbody>\n",
       "</table>\n",
       "<p>666 rows × 1 columns</p>\n",
       "</div>"
      ],
      "text/plain": [
       "     0\n",
       "0    1\n",
       "1    1\n",
       "2    1\n",
       "3    1\n",
       "4    1\n",
       "..  ..\n",
       "661  0\n",
       "662  0\n",
       "663  0\n",
       "664  0\n",
       "665  0\n",
       "\n",
       "[666 rows x 1 columns]"
      ]
     },
     "execution_count": 4,
     "metadata": {},
     "output_type": "execute_result"
    }
   ],
   "source": [
    "from sklearn.model_selection import train_test_split\n",
    "from sklearn.preprocessing import LabelEncoder\n",
    "le = LabelEncoder()\n",
    "data = dataset['train']\n",
    "input = data.remove_columns('Performance') #Removing the performance values as they are just there to check the accuracy\n",
    "target = data['Performance']\n",
    "y = pd.DataFrame(target).apply(le.fit_transform)\n",
    "X = pd.DataFrame(input).apply(le.fit_transform)\n",
    "X = np.asarray(X[['Gender','Caste','coaching','Class_ten_education','medium','Class_X_Percentage','Class_XII_Percentage','Father_occupation', 'Mother_occupation', 'time']])\n",
    "xTrain,xTest,yTrain,yTest=train_test_split(X,y,test_size=0.15,random_state=21)\n",
    "y"
   ]
  },
  {
   "cell_type": "code",
   "execution_count": 26,
   "metadata": {},
   "outputs": [],
   "source": [
    "from sklearn.tree import DecisionTreeClassifier\n",
    "myModel=DecisionTreeClassifier(max_features=15,max_leaf_nodes=10)\n",
    "model = myModel.fit(xTrain,yTrain)\n",
    "predictions = model.predict(xTest)"
   ]
  },
  {
   "cell_type": "code",
   "execution_count": 23,
   "metadata": {},
   "outputs": [
    {
     "name": "stderr",
     "output_type": "stream",
     "text": [
      "d:\\python workspace\\Machine_Leaning\\.venv\\Lib\\site-packages\\sklearn\\utils\\validation.py:1408: DataConversionWarning: A column-vector y was passed when a 1d array was expected. Please change the shape of y to (n_samples, ), for example using ravel().\n",
      "  y = column_or_1d(y, warn=True)\n"
     ]
    }
   ],
   "source": [
    "from sklearn.ensemble import AdaBoostClassifier\n",
    "myModel=AdaBoostClassifier()\n",
    "model = myModel.fit(xTrain,yTrain)\n",
    "predictions = model.predict(xTest)"
   ]
  },
  {
   "cell_type": "code",
   "execution_count": 20,
   "metadata": {},
   "outputs": [
    {
     "name": "stderr",
     "output_type": "stream",
     "text": [
      "d:\\python workspace\\Machine_Leaning\\.venv\\Lib\\site-packages\\sklearn\\base.py:1389: DataConversionWarning: A column-vector y was passed when a 1d array was expected. Please change the shape of y to (n_samples,), for example using ravel().\n",
      "  return fit_method(estimator, *args, **kwargs)\n"
     ]
    }
   ],
   "source": [
    "from sklearn.ensemble import RandomForestClassifier\n",
    "myModel=RandomForestClassifier(criterion=\"entropy\",max_features=\"log2\")\n",
    "model = myModel.fit(xTrain,yTrain)\n",
    "predictions = model.predict(xTest)"
   ]
  },
  {
   "cell_type": "code",
   "execution_count": 17,
   "metadata": {},
   "outputs": [],
   "source": [
    "from xgboost import XGBClassifier\n",
    "myModel=XGBClassifier(learning_rate=0.01)\n",
    "model=myModel.fit(xTrain,yTrain)\n",
    "predictions=model.predict(xTest)"
   ]
  },
  {
   "cell_type": "code",
   "execution_count": 27,
   "metadata": {},
   "outputs": [
    {
     "data": {
      "text/plain": [
       "(array([3, 3, 0, 3, 0, 0, 0, 3, 2, 0, 3, 3, 2, 3, 1, 1, 0, 0, 0, 0, 2, 3,\n",
       "        2, 2, 2, 0, 3, 0, 1, 2, 2, 3, 2, 1, 0, 2, 2, 0, 3, 3, 3, 0, 2, 0,\n",
       "        3, 2, 0, 0, 3, 2, 0, 3, 3, 3, 0, 2, 1, 1, 1, 2, 1, 0, 3, 3, 3, 3,\n",
       "        2, 2, 3, 2, 2, 3, 1, 3, 2, 3, 0, 0, 1, 2, 0, 2, 2, 2, 2, 3, 3, 3,\n",
       "        1, 0, 1, 0, 0, 2, 2, 2, 0, 2, 3, 1]),\n",
       " array([3, 3, 0, 2, 0, 0, 0, 3, 2, 0, 2, 3, 2, 2, 3, 2, 0, 2, 0, 0, 1, 2,\n",
       "        3, 3, 2, 2, 3, 2, 3, 2, 0, 2, 2, 1, 2, 0, 1, 0, 3, 3, 3, 0, 2, 0,\n",
       "        3, 1, 0, 0, 1, 2, 0, 3, 3, 3, 0, 2, 2, 1, 1, 1, 3, 0, 2, 3, 2, 3,\n",
       "        2, 2, 1, 2, 3, 1, 3, 2, 2, 1, 0, 2, 1, 0, 0, 3, 3, 1, 3, 2, 2, 2,\n",
       "        1, 0, 3, 0, 2, 2, 2, 2, 0, 2, 2, 2]))"
      ]
     },
     "execution_count": 27,
     "metadata": {},
     "output_type": "execute_result"
    }
   ],
   "source": [
    "yTestval = yTest.iloc[:,0]\n",
    "yTestval.values, predictions"
   ]
  },
  {
   "cell_type": "code",
   "execution_count": 28,
   "metadata": {},
   "outputs": [
    {
     "name": "stdout",
     "output_type": "stream",
     "text": [
      "56.00000000000001\n"
     ]
    }
   ],
   "source": [
    "rights=0\n",
    "accuracy_score = list()\n",
    "for i in range(len(predictions)):\n",
    "    if predictions[i] == yTestval.values[i]:\n",
    "        rights = rights+1\n",
    "    accuracy=rights/(i+1)\n",
    "    accuracy_score.append(accuracy)\n",
    "print(accuracy*100)"
   ]
  },
  {
   "cell_type": "code",
   "execution_count": 29,
   "metadata": {},
   "outputs": [
    {
     "data": {
      "image/png": "[encoded data removed]",
      "text/plain": [
       "<Figure size 640x480 with 1 Axes>"
      ]
     },
     "metadata": {},
     "output_type": "display_data"
    }
   ],
   "source": [
    "plt.plot(range(len(accuracy_score)), accuracy_score)\n",
    "plt.xlabel('Index')\n",
    "plt.ylabel('Accuracy Score')\n",
    "plt.title('Accuracy Score vs Index')\n",
    "plt.show()"
   ]
  },
  {
   "cell_type": "code",
   "execution_count": null,
   "metadata": {},
   "outputs": [],
   "source": []
  }
 ],
 "metadata": {
  "kernelspec": {
   "display_name": ".venv",
   "language": "python",
   "name": "python3"
  },
  "language_info": {
   "codemirror_mode": {
    "name": "ipython",
    "version": 3
   },
   "file_extension": ".py",
   "mimetype": "text/x-python",
   "name": "python",
   "nbconvert_exporter": "python",
   "pygments_lexer": "ipython3",
   "version": "3.12.7"
  }
 },
 "nbformat": 4,
 "nbformat_minor": 2
}
